{
 "cells": [
  {
   "cell_type": "code",
   "execution_count": 19,
   "metadata": {},
   "outputs": [
    {
     "data": {
      "text/plain": [
       "array([34, 76, 51])"
      ]
     },
     "execution_count": 19,
     "metadata": {},
     "output_type": "execute_result"
    }
   ],
   "source": [
    "import numpy as np\n",
    "\n",
    "student_number = '201813672'\n",
    "np.random.seed(int(student_number[-1:-4:-1]))\n",
    "np.random.randint(low=0, high=100, size=(3,))\n"
   ]
  },
  {
   "cell_type": "code",
   "execution_count": 29,
   "metadata": {},
   "outputs": [
    {
     "name": "stdout",
     "output_type": "stream",
     "text": [
      "[ 7 40]\n",
      "[73 76]\n",
      "[67  0]\n",
      "187.25650856512306\n"
     ]
    }
   ],
   "source": [
    "x1 = np.random.randint(0,100, size=(3,))\n",
    "x2 = np.random.randint(0,100, size=(3,))\n",
    "v1 = np.array([x1[0],x2[0]])\n",
    "v2 = np.array([x1[1],x2[1]])\n",
    "v3 = np.array([x1[2],0])\n",
    "vtotal = v1 + v2 + v3\n",
    "vect = np.linalg.norm(vtotal)\n",
    "print (v1)\n",
    "print (v2)\n",
    "print (v3)\n",
    "print (vect)\n",
    "\n"
   ]
  },
  {
   "cell_type": "markdown",
   "metadata": {},
   "source": [
    "$$\\begin{bmatrix} 7 & 40 \\\\ 73 & 76 \\\\ 67 & 0 \\end{bmatrix}$$"
   ]
  },
  {
   "cell_type": "markdown",
   "metadata": {},
   "source": [
    "$vtotal = v1 + v2 +v3$\n",
    "\n",
    "$vect=\\sqrt{x_1^2 + x_2^2}$"
   ]
  },
  {
   "cell_type": "code",
   "execution_count": null,
   "metadata": {},
   "outputs": [],
   "source": []
  }
 ],
 "metadata": {
  "kernelspec": {
   "display_name": "Python 3",
   "language": "python",
   "name": "python3"
  },
  "language_info": {
   "codemirror_mode": {
    "name": "ipython",
    "version": 3
   },
   "file_extension": ".py",
   "mimetype": "text/x-python",
   "name": "python",
   "nbconvert_exporter": "python",
   "pygments_lexer": "ipython3",
   "version": "3.8.3"
  }
 },
 "nbformat": 4,
 "nbformat_minor": 4
}
